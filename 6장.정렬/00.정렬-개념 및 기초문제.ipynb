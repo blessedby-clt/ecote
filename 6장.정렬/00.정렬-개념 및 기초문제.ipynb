{
 "cells": [
  {
   "cell_type": "markdown",
   "id": "36c2ea10",
   "metadata": {},
   "source": [
    "# 개념\n",
    "## 선택정렬\n",
    "- 가장 작은 값을 맨 앞에 있는 데이터와 바꿈\n",
    "- 시간 복잡도는 O(N^2)"
   ]
  },
  {
   "cell_type": "markdown",
   "id": "28dbfffb",
   "metadata": {},
   "source": [
    "### 구현코드\n",
    "- 생각한 코드와 실제 책에 나온 코드 둘 다 작성"
   ]
  },
  {
   "cell_type": "code",
   "execution_count": 1,
   "id": "97624c87",
   "metadata": {},
   "outputs": [],
   "source": [
    "array = [7, 5, 9, 0, 3, 1, 6, 2, 4, 8]"
   ]
  },
  {
   "cell_type": "code",
   "execution_count": 2,
   "id": "d69ced6c",
   "metadata": {},
   "outputs": [
    {
     "name": "stdout",
     "output_type": "stream",
     "text": [
      "[0, 1, 2, 3, 4, 5, 6, 7, 8, 9]\n"
     ]
    }
   ],
   "source": [
    "for i in range(len(array)):\n",
    "    min_index = i\n",
    "    comp_index = array.index(min(array[i:]))\n",
    "    if array[min_index] > array[comp_index]:\n",
    "        array[min_index], array[comp_index] = array[comp_index], array[min_index]\n",
    "\n",
    "print(array)"
   ]
  },
  {
   "cell_type": "code",
   "execution_count": 4,
   "id": "8d4de391",
   "metadata": {},
   "outputs": [
    {
     "name": "stdout",
     "output_type": "stream",
     "text": [
      "[0, 1, 2, 3, 4, 5, 6, 7, 8, 9]\n"
     ]
    }
   ],
   "source": [
    "for i in range(len(array)):\n",
    "    min_index = i\n",
    "    for j in range(i+1, len(array)):\n",
    "        if array[min_index] > array[j]:\n",
    "            min_index = j\n",
    "        array[min_index], array[i] = array[i], array[min_index]\n",
    "print(array)"
   ]
  },
  {
   "cell_type": "markdown",
   "id": "84cf56ab",
   "metadata": {},
   "source": [
    "## 삽입정렬\n",
    "- 맨 왼쪽의 데이터는 정렬이 된 값이라고 생각하고, 오른쪽 데이터부터 왼쪽 데이터와 비교해서 작으면 왼쪽으로, 크면 그대로 두는 것 반복\n",
    "- 시간복잡도는 O(N^2)이지만 이미 정렬이 완료된 경우는 거의 O(N)에 가까움"
   ]
  },
  {
   "cell_type": "code",
   "execution_count": 5,
   "id": "c8d2c666",
   "metadata": {},
   "outputs": [],
   "source": [
    "array = [7, 5, 9, 0, 3, 1, 6, 2, 4, 8]"
   ]
  },
  {
   "cell_type": "code",
   "execution_count": 6,
   "id": "86b30e97",
   "metadata": {},
   "outputs": [
    {
     "name": "stdout",
     "output_type": "stream",
     "text": [
      "[0, 1, 2, 3, 4, 5, 6, 7, 8, 9]\n"
     ]
    }
   ],
   "source": [
    "for i in range(len(array)):\n",
    "    for j in range(i, 0, -1):\n",
    "        if array[j] < array[j-1]:\n",
    "            array[j], array[j-1] = array[j-1], array[j]\n",
    "        else:\n",
    "            break\n",
    "\n",
    "print(array)\n",
    "            "
   ]
  },
  {
   "cell_type": "markdown",
   "id": "bae18fe0",
   "metadata": {},
   "source": [
    "## 퀵 정렬\n",
    "- 기준 데이터를 놓고, 기준 데이터보다 작은 건 왼쪽으로 기준 데이터보다 큰 건 오른쪽으로 분할(divide)\n",
    "- 기준 데이터를 제외한 나머지 묶음에서 왼쪽부터 기준 데이터보다 큰 걸 찾고, 오른쪽부터 기준 데이터보다 작은 걸 찾는다.\n",
    "- 큰 것과 작은 것 간에 위치 변경.\n",
    "- 만일 왼쪽부터 찾는 값과 오른쪽부터 찾는 값의 위치가 엇갈리게 되는 경우에는 작은 데이터와 피벗의 위치를 변경하는 식으로 분할한다.\n",
    "- 분할된 것끼리 다시 퀵정렬(일종의 재귀)\n",
    "- 시간복잡도는 NlogN"
   ]
  },
  {
   "cell_type": "markdown",
   "id": "97026b8a",
   "metadata": {},
   "source": [
    "### 구현코드"
   ]
  },
  {
   "cell_type": "code",
   "execution_count": 7,
   "id": "7aafea8e",
   "metadata": {},
   "outputs": [],
   "source": [
    "array = [7, 5, 9, 0, 3, 1, 6, 2, 4, 8]"
   ]
  },
  {
   "cell_type": "code",
   "execution_count": 8,
   "id": "71018a06",
   "metadata": {},
   "outputs": [],
   "source": [
    "def quick_sort(array, start, end):\n",
    "    if start >= end:\n",
    "        return\n",
    "    pivot = start\n",
    "    left = start + 1\n",
    "    right = end\n",
    "    while left <= right:\n",
    "        while left <= end and array[left] <= array[pivot]:\n",
    "            left += 1\n",
    "        while right > start and array[right] >= array[pivot]:\n",
    "            right -=1\n",
    "        if left > right :\n",
    "            array[right], array[pivot] = array[pivot], array[right]\n",
    "        else:\n",
    "            array[left], array[right] = array[right], array[left]\n",
    "        \n",
    "        quick_sort(array, start, right-1)\n",
    "        quick_sort(array, right+1, end)"
   ]
  },
  {
   "cell_type": "code",
   "execution_count": 9,
   "id": "7a095d79",
   "metadata": {},
   "outputs": [
    {
     "name": "stdout",
     "output_type": "stream",
     "text": [
      "[0, 1, 2, 3, 4, 5, 6, 7, 8, 9]\n"
     ]
    }
   ],
   "source": [
    "quick_sort(array, 0, len(array)-1)\n",
    "print(array)"
   ]
  },
  {
   "cell_type": "code",
   "execution_count": 10,
   "id": "a6b2d5aa",
   "metadata": {},
   "outputs": [],
   "source": [
    "array = [5, 7, 9, 0, 3, 1, 6, 2, 4, 8]"
   ]
  },
  {
   "cell_type": "code",
   "execution_count": 11,
   "id": "68817024",
   "metadata": {},
   "outputs": [],
   "source": [
    "def quick_sort(array):\n",
    "    if len(array) <= 1:\n",
    "        return array\n",
    "    pivot = array[0]\n",
    "    tail = array[1:]\n",
    "    \n",
    "    left_side = [x for x in tail if x <= pivot]\n",
    "    right_side = [x for x in tail if x > pivot]\n",
    "    \n",
    "    return quick_sort(left_side) + [pivot] + quick_sort(right_side)"
   ]
  },
  {
   "cell_type": "code",
   "execution_count": 13,
   "id": "fad915cf",
   "metadata": {},
   "outputs": [
    {
     "name": "stdout",
     "output_type": "stream",
     "text": [
      "[0, 1, 2, 3, 4, 5, 6, 7, 8, 9]\n"
     ]
    }
   ],
   "source": [
    "array = quick_sort(array)\n",
    "print(array)"
   ]
  },
  {
   "cell_type": "markdown",
   "id": "7ad6773b",
   "metadata": {},
   "source": [
    "## 계수정렬"
   ]
  },
  {
   "cell_type": "code",
   "execution_count": 14,
   "id": "e5f36f41",
   "metadata": {},
   "outputs": [],
   "source": [
    "array = [7, 5, 9, 0, 3, 1, 6, 2, 9, 1, 4, 8, 0, 5, 2]"
   ]
  },
  {
   "cell_type": "code",
   "execution_count": 15,
   "id": "424d6fb9",
   "metadata": {},
   "outputs": [],
   "source": [
    "count = [0] * (max(array) + 1)"
   ]
  },
  {
   "cell_type": "code",
   "execution_count": 17,
   "id": "e12e5077",
   "metadata": {},
   "outputs": [],
   "source": [
    "for i in range(len(array)):\n",
    "    count[array[i]] += 1"
   ]
  },
  {
   "cell_type": "code",
   "execution_count": 18,
   "id": "12529a34",
   "metadata": {},
   "outputs": [
    {
     "name": "stdout",
     "output_type": "stream",
     "text": [
      "001122345567899"
     ]
    }
   ],
   "source": [
    "for i in range(len(count)):\n",
    "    for j in range(count[i]):\n",
    "        print(i, end = '')"
   ]
  },
  {
   "cell_type": "markdown",
   "id": "203ec442",
   "metadata": {},
   "source": [
    "# 실전문제"
   ]
  },
  {
   "cell_type": "markdown",
   "id": "f0bac8ce",
   "metadata": {},
   "source": [
    "## 위에서 아래로"
   ]
  },
  {
   "cell_type": "code",
   "execution_count": 19,
   "id": "4924eef5",
   "metadata": {},
   "outputs": [
    {
     "name": "stdout",
     "output_type": "stream",
     "text": [
      "3\n",
      "15\n",
      "27\n",
      "12\n"
     ]
    }
   ],
   "source": [
    "n = int(input())\n",
    "temp_list = []\n",
    "for i in range(n):\n",
    "    temp_list.append(int(input()))"
   ]
  },
  {
   "cell_type": "code",
   "execution_count": 20,
   "id": "b031faee",
   "metadata": {},
   "outputs": [],
   "source": [
    "result = sorted(temp_list, reverse = True)"
   ]
  },
  {
   "cell_type": "code",
   "execution_count": 24,
   "id": "0d842608",
   "metadata": {},
   "outputs": [
    {
     "name": "stdout",
     "output_type": "stream",
     "text": [
      "[27, 15, 12]\n"
     ]
    },
    {
     "data": {
      "text/plain": [
       "'27 15 12'"
      ]
     },
     "execution_count": 24,
     "metadata": {},
     "output_type": "execute_result"
    }
   ],
   "source": [
    "print(result)\n",
    "\" \".join(map(str, result))"
   ]
  },
  {
   "cell_type": "markdown",
   "id": "f5f85ddb",
   "metadata": {},
   "source": [
    "## 성적이 낮은 순으로 학생 출력"
   ]
  },
  {
   "cell_type": "code",
   "execution_count": 26,
   "id": "d0d3739f",
   "metadata": {},
   "outputs": [
    {
     "name": "stdout",
     "output_type": "stream",
     "text": [
      "2\n",
      "홍길동 95\n",
      "이순신 77\n",
      "{'홍길동': 95, '이순신': 77}\n"
     ]
    }
   ],
   "source": [
    "n = int(input())\n",
    "temp_dict = {}\n",
    "for element in range(n):\n",
    "    key, value = input().split()\n",
    "    temp_dict[key] = int(value)\n",
    "\n",
    "print(temp_dict)"
   ]
  },
  {
   "cell_type": "code",
   "execution_count": 50,
   "id": "5b4e5fe4",
   "metadata": {},
   "outputs": [
    {
     "name": "stdout",
     "output_type": "stream",
     "text": [
      "이순신 홍길동 "
     ]
    }
   ],
   "source": [
    "array = sorted(temp_dict.items(), key = lambda x : x[1])\n",
    "for i in array:\n",
    "    print(i[0], end = ' ')"
   ]
  },
  {
   "cell_type": "code",
   "execution_count": 48,
   "id": "d78e235d",
   "metadata": {},
   "outputs": [
    {
     "data": {
      "text/plain": [
       "dict_values([95, 77])"
      ]
     },
     "execution_count": 48,
     "metadata": {},
     "output_type": "execute_result"
    }
   ],
   "source": [
    "temp_dict.values()"
   ]
  },
  {
   "cell_type": "markdown",
   "id": "ce569cc5",
   "metadata": {},
   "source": [
    "## 두 배열의 원소 교체"
   ]
  },
  {
   "cell_type": "code",
   "execution_count": 51,
   "id": "a083b1fb",
   "metadata": {},
   "outputs": [
    {
     "name": "stdout",
     "output_type": "stream",
     "text": [
      "5 3\n"
     ]
    }
   ],
   "source": [
    "m, n = map(int, input().split())"
   ]
  },
  {
   "cell_type": "code",
   "execution_count": 52,
   "id": "fed170cb",
   "metadata": {},
   "outputs": [
    {
     "name": "stdout",
     "output_type": "stream",
     "text": [
      "1 2 5 4 3\n",
      "5 5 6 6 5\n"
     ]
    }
   ],
   "source": [
    "array_a = list(map(int, input().split()))\n",
    "array_b = list(map(int, input().split()))"
   ]
  },
  {
   "cell_type": "code",
   "execution_count": 53,
   "id": "5d1897d7",
   "metadata": {},
   "outputs": [
    {
     "name": "stdout",
     "output_type": "stream",
     "text": [
      "[1, 2, 3, 4, 5]\n"
     ]
    }
   ],
   "source": [
    "array_a.sort()\n",
    "print(array_a)"
   ]
  },
  {
   "cell_type": "code",
   "execution_count": 54,
   "id": "b18b465c",
   "metadata": {},
   "outputs": [],
   "source": [
    "array_b.sort(reverse = True)"
   ]
  },
  {
   "cell_type": "code",
   "execution_count": 55,
   "id": "389932c4",
   "metadata": {},
   "outputs": [
    {
     "data": {
      "text/plain": [
       "[6, 6, 5, 5, 5]"
      ]
     },
     "execution_count": 55,
     "metadata": {},
     "output_type": "execute_result"
    }
   ],
   "source": [
    "array_b"
   ]
  },
  {
   "cell_type": "code",
   "execution_count": 57,
   "id": "6a1e450d",
   "metadata": {},
   "outputs": [
    {
     "name": "stdout",
     "output_type": "stream",
     "text": [
      "[6, 6, 5, 4, 5]\n"
     ]
    }
   ],
   "source": [
    "new_array_a = array_b[:n] + array_a[n:] \n",
    "print(new_array_a)\n",
    "print(sum(new))"
   ]
  },
  {
   "cell_type": "code",
   "execution_count": null,
   "id": "baa6e9e4",
   "metadata": {},
   "outputs": [],
   "source": []
  }
 ],
 "metadata": {
  "kernelspec": {
   "display_name": "Python 3 (ipykernel)",
   "language": "python",
   "name": "python3"
  },
  "language_info": {
   "codemirror_mode": {
    "name": "ipython",
    "version": 3
   },
   "file_extension": ".py",
   "mimetype": "text/x-python",
   "name": "python",
   "nbconvert_exporter": "python",
   "pygments_lexer": "ipython3",
   "version": "3.9.13"
  },
  "toc": {
   "base_numbering": 1,
   "nav_menu": {},
   "number_sections": true,
   "sideBar": true,
   "skip_h1_title": false,
   "title_cell": "Table of Contents",
   "title_sidebar": "Contents",
   "toc_cell": false,
   "toc_position": {},
   "toc_section_display": true,
   "toc_window_display": false
  }
 },
 "nbformat": 4,
 "nbformat_minor": 5
}
