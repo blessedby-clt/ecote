{
 "cells": [
  {
   "cell_type": "markdown",
   "id": "561aa0f7",
   "metadata": {},
   "source": [
    "# 개념\n",
    "## 조건\n",
    "1. 큰 문제를 작은 문제로 나눌 수 있다\n",
    "2. 작은 문제에서 구한 정답은 그것을 포함하는 큰 문제에서도 동일하다\n",
    "\n",
    "## 종류\n",
    "- 탑 다운 : 큰 문제를 해결하기 위해 작은 문제를 호출\n",
    "- 바텀 업 : 작은 문제부터 차근차근 답을 도출"
   ]
  },
  {
   "cell_type": "markdown",
   "id": "3bb9f76c",
   "metadata": {},
   "source": [
    "### 탑 다운을 활용한 피보나치 수열"
   ]
  },
  {
   "cell_type": "code",
   "execution_count": 1,
   "id": "cbd35496",
   "metadata": {
    "ExecuteTime": {
     "end_time": "2023-05-29T12:09:21.545185Z",
     "start_time": "2023-05-29T12:09:21.532219Z"
    }
   },
   "outputs": [
    {
     "data": {
      "text/plain": [
       "8"
      ]
     },
     "execution_count": 1,
     "metadata": {},
     "output_type": "execute_result"
    }
   ],
   "source": [
    "d = [0] * 100\n",
    "\n",
    "def pibo(x):\n",
    "    if x == 1 or x == 2:\n",
    "        return 1\n",
    "    if d[x] != 0:\n",
    "        return d[x]\n",
    "    d[x] = pibo(x - 1) + pibo(x - 2)\n",
    "    \n",
    "    return d[x]\n",
    "\n",
    "pibo(6)"
   ]
  },
  {
   "cell_type": "markdown",
   "id": "8d53576d",
   "metadata": {},
   "source": [
    "### 바텀업을 활용한 피보나치 수열"
   ]
  },
  {
   "cell_type": "code",
   "execution_count": 2,
   "id": "ba948a2d",
   "metadata": {
    "ExecuteTime": {
     "end_time": "2023-05-29T12:16:56.722565Z",
     "start_time": "2023-05-29T12:16:56.707576Z"
    }
   },
   "outputs": [
    {
     "name": "stdout",
     "output_type": "stream",
     "text": [
      "218922995834555169026\n"
     ]
    }
   ],
   "source": [
    "d = [0] * 100\n",
    "\n",
    "d[1] = 1\n",
    "d[2] = 1\n",
    "n = 99\n",
    "\n",
    "for i in range(3, n + 1):\n",
    "    d[i] = d[i-1] + d[i-2]\n",
    "\n",
    "print(d[n])"
   ]
  },
  {
   "cell_type": "markdown",
   "id": "bd021c99",
   "metadata": {},
   "source": [
    "# 실전문제\n",
    "## 1로 만들기"
   ]
  },
  {
   "cell_type": "code",
   "execution_count": 3,
   "id": "e0c23a08",
   "metadata": {
    "ExecuteTime": {
     "end_time": "2023-05-29T12:18:56.820237Z",
     "start_time": "2023-05-29T12:18:56.803259Z"
    }
   },
   "outputs": [
    {
     "name": "stdout",
     "output_type": "stream",
     "text": [
      "3\n"
     ]
    }
   ],
   "source": [
    "x = 26\n",
    "d = [0] * 30001\n",
    "\n",
    "for i in range(2, x + 1):\n",
    "    d[i] = d[i-1] +1\n",
    "    if i % 2 == 0:\n",
    "        d[i] = min(d[i], d[i //2] + 1)\n",
    "    if i % 3 == 0:\n",
    "        d[i] = min(d[i], d[i //3] + 1)\n",
    "    if i % 5 == 0:\n",
    "        d[i] = min(d[i], d[i //5] + 1)\n",
    "\n",
    "print(d[x])        "
   ]
  },
  {
   "cell_type": "markdown",
   "id": "90d2291a",
   "metadata": {},
   "source": [
    "## 개미 전사"
   ]
  },
  {
   "cell_type": "code",
   "execution_count": 4,
   "id": "ef1070a7",
   "metadata": {
    "ExecuteTime": {
     "end_time": "2023-05-29T12:36:27.829290Z",
     "start_time": "2023-05-29T12:36:25.704910Z"
    }
   },
   "outputs": [
    {
     "name": "stdout",
     "output_type": "stream",
     "text": [
      "4\n"
     ]
    }
   ],
   "source": [
    "n = int(input())\n"
   ]
  },
  {
   "cell_type": "code",
   "execution_count": 5,
   "id": "ababbf50",
   "metadata": {
    "ExecuteTime": {
     "end_time": "2023-05-29T12:36:41.294479Z",
     "start_time": "2023-05-29T12:36:38.979530Z"
    }
   },
   "outputs": [
    {
     "name": "stdout",
     "output_type": "stream",
     "text": [
      "1 3 1 5\n"
     ]
    }
   ],
   "source": [
    "array = list(map(int, input().split()))"
   ]
  },
  {
   "cell_type": "code",
   "execution_count": 6,
   "id": "13162358",
   "metadata": {
    "ExecuteTime": {
     "end_time": "2023-05-29T12:38:38.724455Z",
     "start_time": "2023-05-29T12:38:38.715480Z"
    }
   },
   "outputs": [
    {
     "name": "stdout",
     "output_type": "stream",
     "text": [
      "8\n"
     ]
    }
   ],
   "source": [
    "d = [0] * 100\n",
    "\n",
    "d[0] = array[0]\n",
    "d[1] = array[1]\n",
    "\n",
    "for i in range(2, n):\n",
    "    d[i] = max(d[i-1], d[i-2] + array[i])\n",
    "\n",
    "print(d[n-1])"
   ]
  },
  {
   "cell_type": "markdown",
   "id": "174efa0e",
   "metadata": {},
   "source": [
    "## 바닥공사"
   ]
  },
  {
   "cell_type": "markdown",
   "id": "d317b98d",
   "metadata": {},
   "source": [
    "### 내 답안"
   ]
  },
  {
   "cell_type": "code",
   "execution_count": 20,
   "id": "7b6129dc",
   "metadata": {
    "ExecuteTime": {
     "end_time": "2023-05-29T12:51:36.802505Z",
     "start_time": "2023-05-29T12:51:35.507263Z"
    }
   },
   "outputs": [
    {
     "name": "stdout",
     "output_type": "stream",
     "text": [
      "4\n"
     ]
    }
   ],
   "source": [
    "n = int(input())"
   ]
  },
  {
   "cell_type": "code",
   "execution_count": 23,
   "id": "10ceec05",
   "metadata": {
    "ExecuteTime": {
     "end_time": "2023-05-29T12:53:32.182965Z",
     "start_time": "2023-05-29T12:53:32.164015Z"
    }
   },
   "outputs": [
    {
     "name": "stdout",
     "output_type": "stream",
     "text": [
      "9\n"
     ]
    }
   ],
   "source": [
    "if n % 2 == 0:\n",
    "    answer = 3**(n //2) \n",
    "    \n",
    "else:\n",
    "    answer = 3**(n //2) + 2\n",
    "\n",
    "print(answer % 796796)\n",
    "\n",
    "## 양 옆을 2*1 타일로 채울 수 있는 방법을 고려 못함.\n",
    "## 최종적으로 아래 방식으로 풀어야 함."
   ]
  },
  {
   "cell_type": "markdown",
   "id": "650a0a32",
   "metadata": {},
   "source": [
    "### 책 예시"
   ]
  },
  {
   "cell_type": "code",
   "execution_count": 22,
   "id": "8219f322",
   "metadata": {
    "ExecuteTime": {
     "end_time": "2023-05-29T12:51:38.647301Z",
     "start_time": "2023-05-29T12:51:38.635334Z"
    }
   },
   "outputs": [
    {
     "name": "stdout",
     "output_type": "stream",
     "text": [
      "11\n"
     ]
    }
   ],
   "source": [
    "d = [0] * 1001\n",
    "\n",
    "d[1] = 1\n",
    "d[2] = 3\n",
    "for i in range(3, n+1):\n",
    "    d[i] = (d[i-1] + 2*d[i-2]) % 796796\n",
    "\n",
    "print(d[n])"
   ]
  },
  {
   "cell_type": "markdown",
   "id": "7e1cca34",
   "metadata": {},
   "source": [
    "## 효율적인 화폐구성"
   ]
  },
  {
   "cell_type": "code",
   "execution_count": 24,
   "id": "3b4f4811",
   "metadata": {
    "ExecuteTime": {
     "end_time": "2023-05-29T13:07:23.209413Z",
     "start_time": "2023-05-29T13:07:18.403497Z"
    }
   },
   "outputs": [
    {
     "name": "stdout",
     "output_type": "stream",
     "text": [
      "2 15\n"
     ]
    }
   ],
   "source": [
    "n, m = map(int, input().split())"
   ]
  },
  {
   "cell_type": "code",
   "execution_count": 25,
   "id": "8c221ce1",
   "metadata": {
    "ExecuteTime": {
     "end_time": "2023-05-29T13:07:57.482468Z",
     "start_time": "2023-05-29T13:07:50.699621Z"
    }
   },
   "outputs": [
    {
     "name": "stdout",
     "output_type": "stream",
     "text": [
      "2\n",
      "3\n"
     ]
    }
   ],
   "source": [
    "array = []\n",
    "for i in range(n):\n",
    "    array.append(int(input()))"
   ]
  },
  {
   "cell_type": "code",
   "execution_count": 26,
   "id": "7f52acca",
   "metadata": {
    "ExecuteTime": {
     "end_time": "2023-05-29T13:08:00.251753Z",
     "start_time": "2023-05-29T13:08:00.234798Z"
    }
   },
   "outputs": [
    {
     "data": {
      "text/plain": [
       "[2, 3]"
      ]
     },
     "execution_count": 26,
     "metadata": {},
     "output_type": "execute_result"
    }
   ],
   "source": [
    "array"
   ]
  },
  {
   "cell_type": "code",
   "execution_count": 27,
   "id": "7dc0eeb5",
   "metadata": {
    "ExecuteTime": {
     "end_time": "2023-05-29T13:08:15.192460Z",
     "start_time": "2023-05-29T13:08:15.179466Z"
    }
   },
   "outputs": [],
   "source": [
    "d = [10001]*(m+1)"
   ]
  },
  {
   "cell_type": "code",
   "execution_count": 28,
   "id": "f1d4ee47",
   "metadata": {
    "ExecuteTime": {
     "end_time": "2023-05-29T13:16:14.567951Z",
     "start_time": "2023-05-29T13:16:14.548043Z"
    }
   },
   "outputs": [
    {
     "name": "stdout",
     "output_type": "stream",
     "text": [
      "5\n"
     ]
    }
   ],
   "source": [
    "d[0]=0\n",
    "# 동전 종류만큼 반복문\n",
    "for i in range(n):\n",
    "    # 최소 동전 단위 이후부터 +1 씩 확인\n",
    "    for j in range(array[i], m+1):\n",
    "        # 동전 단위- 검출하려고 하는 최소동전단위\n",
    "        # 동전조합이 가능한 경우\n",
    "        if d[j - array[i]] != 10001:\n",
    "            d[j] = min(d[j], d[j - array[i]]+ 1)\n",
    "\n",
    "if d[m] == 10001:\n",
    "    print(-1)\n",
    "else:\n",
    "    print(d[m])            "
   ]
  },
  {
   "cell_type": "code",
   "execution_count": null,
   "id": "76f7e01d",
   "metadata": {},
   "outputs": [],
   "source": []
  }
 ],
 "metadata": {
  "hide_input": false,
  "kernelspec": {
   "display_name": "Python 3 (ipykernel)",
   "language": "python",
   "name": "python3"
  },
  "language_info": {
   "codemirror_mode": {
    "name": "ipython",
    "version": 3
   },
   "file_extension": ".py",
   "mimetype": "text/x-python",
   "name": "python",
   "nbconvert_exporter": "python",
   "pygments_lexer": "ipython3",
   "version": "3.9.16"
  },
  "toc": {
   "base_numbering": 1,
   "nav_menu": {},
   "number_sections": true,
   "sideBar": true,
   "skip_h1_title": false,
   "title_cell": "Table of Contents",
   "title_sidebar": "Contents",
   "toc_cell": false,
   "toc_position": {},
   "toc_section_display": true,
   "toc_window_display": false
  }
 },
 "nbformat": 4,
 "nbformat_minor": 5
}
