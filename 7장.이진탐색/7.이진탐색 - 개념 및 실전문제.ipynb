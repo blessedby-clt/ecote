{
 "cells": [
  {
   "cell_type": "code",
   "execution_count": 1,
   "id": "779297d4",
   "metadata": {
    "ExecuteTime": {
     "end_time": "2023-05-14T10:29:07.307961Z",
     "start_time": "2023-05-14T10:29:07.290010Z"
    }
   },
   "outputs": [],
   "source": [
    "def binary_search(array, target, start, end):\n",
    "    if start > end:\n",
    "        return None\n",
    "    mid = (start + end) // 2\n",
    "    if array[mid] == target:\n",
    "        return mid\n",
    "    elif array[mid] > target:\n",
    "        return binary_search(array, target, start, mid - 1)\n",
    "    else:\n",
    "        return binary_search(array, target, mid + 1, end)"
   ]
  },
  {
   "cell_type": "code",
   "execution_count": 2,
   "id": "b3c970eb",
   "metadata": {
    "ExecuteTime": {
     "end_time": "2023-05-14T10:29:39.644038Z",
     "start_time": "2023-05-14T10:29:29.589965Z"
    }
   },
   "outputs": [
    {
     "name": "stdout",
     "output_type": "stream",
     "text": [
      "10 7\n",
      "1 3 5 7 9 11 13 15 17 19\n"
     ]
    }
   ],
   "source": [
    "n, target = list(map(int, input().split()))\n",
    "array = list(map(int, input().split()))"
   ]
  },
  {
   "cell_type": "code",
   "execution_count": 3,
   "id": "50b695a9",
   "metadata": {
    "ExecuteTime": {
     "end_time": "2023-05-14T10:30:17.134509Z",
     "start_time": "2023-05-14T10:30:17.117554Z"
    }
   },
   "outputs": [
    {
     "name": "stdout",
     "output_type": "stream",
     "text": [
      "4\n"
     ]
    }
   ],
   "source": [
    "result = binary_search(array, target, 0, n-1)\n",
    "if result == None:\n",
    "    print(\"원소가 존재하지 않습니다\")\n",
    "else:\n",
    "    print(result + 1)"
   ]
  },
  {
   "cell_type": "code",
   "execution_count": 4,
   "id": "5a57c422",
   "metadata": {
    "ExecuteTime": {
     "end_time": "2023-05-14T10:31:53.046025Z",
     "start_time": "2023-05-14T10:31:53.030067Z"
    }
   },
   "outputs": [],
   "source": [
    "def binary_search(array, target, start, end):\n",
    "    while start <= end:\n",
    "        mid = (start + end) // 2\n",
    "        if array[mid] == target:\n",
    "            return mid\n",
    "        elif array[mid] > target:\n",
    "            end = mid -1\n",
    "        else:\n",
    "            start = mid + 1\n",
    "    return None"
   ]
  },
  {
   "cell_type": "code",
   "execution_count": 5,
   "id": "7d45aaea",
   "metadata": {
    "ExecuteTime": {
     "end_time": "2023-05-14T10:32:08.228987Z",
     "start_time": "2023-05-14T10:32:00.637701Z"
    }
   },
   "outputs": [
    {
     "name": "stdout",
     "output_type": "stream",
     "text": [
      "10 7\n",
      "1 3 5 7 9 11 13 15 17 19\n"
     ]
    }
   ],
   "source": [
    "n, target = list(map(int, input().split()))\n",
    "array = list(map(int, input().split()))"
   ]
  },
  {
   "cell_type": "code",
   "execution_count": 6,
   "id": "eb4c96d3",
   "metadata": {
    "ExecuteTime": {
     "end_time": "2023-05-14T10:32:14.623486Z",
     "start_time": "2023-05-14T10:32:14.613485Z"
    }
   },
   "outputs": [
    {
     "name": "stdout",
     "output_type": "stream",
     "text": [
      "4\n"
     ]
    }
   ],
   "source": [
    "result = binary_search(array, target, 0, n-1)\n",
    "if result == None:\n",
    "    print(\"원소가 존재하지 않습니다\")\n",
    "else:\n",
    "    print(result + 1)"
   ]
  },
  {
   "cell_type": "markdown",
   "id": "15b5375d",
   "metadata": {},
   "source": [
    "## 부품 찾기"
   ]
  },
  {
   "cell_type": "code",
   "execution_count": 7,
   "id": "0a9c04da",
   "metadata": {
    "ExecuteTime": {
     "end_time": "2023-05-14T10:41:23.442184Z",
     "start_time": "2023-05-14T10:41:23.432188Z"
    }
   },
   "outputs": [],
   "source": [
    "## 이진탐색으로 풀기?\n",
    "\n",
    "def binary_search(array, target, start, end):\n",
    "    if start > end:\n",
    "        return None\n",
    "    while start <= end:\n",
    "        mid = (start + end) // 2\n",
    "        if array[mid] == target:\n",
    "            return mid\n",
    "        elif array[mid] > target:\n",
    "            end = mid -1\n",
    "        else:\n",
    "            start = mid + 1\n",
    "    return None"
   ]
  },
  {
   "cell_type": "code",
   "execution_count": 12,
   "id": "c02207af",
   "metadata": {
    "ExecuteTime": {
     "end_time": "2023-05-14T10:44:46.809930Z",
     "start_time": "2023-05-14T10:44:46.799959Z"
    }
   },
   "outputs": [],
   "source": [
    "array = [8, 3, 7, 9, 2]\n",
    "request_list = [5, 7, 9]\n",
    "array.sort()"
   ]
  },
  {
   "cell_type": "code",
   "execution_count": 14,
   "id": "449f8d07",
   "metadata": {
    "ExecuteTime": {
     "end_time": "2023-05-14T10:46:33.803068Z",
     "start_time": "2023-05-14T10:46:33.797085Z"
    }
   },
   "outputs": [
    {
     "data": {
      "text/plain": [
       "[2, 3, 7, 8, 9]"
      ]
     },
     "execution_count": 14,
     "metadata": {},
     "output_type": "execute_result"
    }
   ],
   "source": [
    "array"
   ]
  },
  {
   "cell_type": "code",
   "execution_count": 15,
   "id": "219da112",
   "metadata": {
    "ExecuteTime": {
     "end_time": "2023-05-14T10:47:47.219017Z",
     "start_time": "2023-05-14T10:47:47.213032Z"
    }
   },
   "outputs": [
    {
     "name": "stdout",
     "output_type": "stream",
     "text": [
      "no yes yes "
     ]
    }
   ],
   "source": [
    "for request in request_list:\n",
    "    result = binary_search(array, request, 0, len(array)-1)\n",
    "    if result != None:\n",
    "        print(\"yes\", end = \" \")\n",
    "    else:\n",
    "        print(\"no\", end = \" \")"
   ]
  },
  {
   "cell_type": "markdown",
   "id": "4b0b4d6a",
   "metadata": {},
   "source": [
    "## 떡볶이 떡 만들기"
   ]
  },
  {
   "cell_type": "code",
   "execution_count": 1,
   "id": "f897c7bf",
   "metadata": {
    "ExecuteTime": {
     "end_time": "2023-05-15T23:00:36.420751Z",
     "start_time": "2023-05-15T23:00:33.848104Z"
    }
   },
   "outputs": [
    {
     "name": "stdout",
     "output_type": "stream",
     "text": [
      "4 6\n"
     ]
    }
   ],
   "source": [
    "n, m = map(int, input().split())"
   ]
  },
  {
   "cell_type": "code",
   "execution_count": 2,
   "id": "453823f5",
   "metadata": {
    "ExecuteTime": {
     "end_time": "2023-05-15T23:00:41.859291Z",
     "start_time": "2023-05-15T23:00:41.839344Z"
    }
   },
   "outputs": [
    {
     "name": "stdout",
     "output_type": "stream",
     "text": [
      "4 6\n"
     ]
    }
   ],
   "source": [
    "print(n, m)"
   ]
  },
  {
   "cell_type": "code",
   "execution_count": 3,
   "id": "12533f62",
   "metadata": {
    "ExecuteTime": {
     "end_time": "2023-05-15T23:01:20.301469Z",
     "start_time": "2023-05-15T23:01:15.448570Z"
    }
   },
   "outputs": [
    {
     "name": "stdout",
     "output_type": "stream",
     "text": [
      "19 15 10 17\n"
     ]
    }
   ],
   "source": [
    "array = list(map(int, input().split()))"
   ]
  },
  {
   "cell_type": "code",
   "execution_count": 5,
   "id": "9e0f5f93",
   "metadata": {
    "ExecuteTime": {
     "end_time": "2023-05-15T23:16:41.095548Z",
     "start_time": "2023-05-15T23:16:41.073605Z"
    }
   },
   "outputs": [
    {
     "name": "stdout",
     "output_type": "stream",
     "text": [
      "15\n"
     ]
    }
   ],
   "source": [
    "start = 0\n",
    "end = max(array)\n",
    "result = 0\n",
    "\n",
    "while start <= end:\n",
    "    total = 0\n",
    "    mid = (start + end) // 2\n",
    "    \n",
    "    for x in array:\n",
    "        if x > mid:\n",
    "            total += (x - mid)\n",
    "    if total < m:\n",
    "        end = mid - 1\n",
    "    else:\n",
    "        result = mid\n",
    "        start = mid + 1\n",
    "print(result)"
   ]
  },
  {
   "cell_type": "code",
   "execution_count": null,
   "id": "84f0ef64",
   "metadata": {},
   "outputs": [],
   "source": []
  }
 ],
 "metadata": {
  "hide_input": false,
  "kernelspec": {
   "display_name": "Python 3 (ipykernel)",
   "language": "python",
   "name": "python3"
  },
  "language_info": {
   "codemirror_mode": {
    "name": "ipython",
    "version": 3
   },
   "file_extension": ".py",
   "mimetype": "text/x-python",
   "name": "python",
   "nbconvert_exporter": "python",
   "pygments_lexer": "ipython3",
   "version": "3.9.16"
  },
  "toc": {
   "base_numbering": 1,
   "nav_menu": {},
   "number_sections": true,
   "sideBar": true,
   "skip_h1_title": false,
   "title_cell": "Table of Contents",
   "title_sidebar": "Contents",
   "toc_cell": false,
   "toc_position": {},
   "toc_section_display": true,
   "toc_window_display": false
  }
 },
 "nbformat": 4,
 "nbformat_minor": 5
}
