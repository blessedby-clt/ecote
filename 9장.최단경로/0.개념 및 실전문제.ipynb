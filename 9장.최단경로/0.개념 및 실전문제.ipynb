{
 "cells": [
  {
   "cell_type": "markdown",
   "id": "2d53aa76",
   "metadata": {},
   "source": [
    "# 다익스트라 알고리즘\n",
    "## 개념\n",
    "- 최단거리 테이블을 갱신..\n",
    "- 방문하지 않은 노드 중 최단 거리가 짧은 노드를 갱신"
   ]
  },
  {
   "cell_type": "markdown",
   "id": "8fd3ccbd",
   "metadata": {},
   "source": [
    "## 간단한 다익스트라 알고리즘"
   ]
  },
  {
   "cell_type": "code",
   "execution_count": 1,
   "id": "003d969a",
   "metadata": {
    "ExecuteTime": {
     "end_time": "2023-06-10T02:52:15.762838Z",
     "start_time": "2023-06-10T02:52:15.744890Z"
    }
   },
   "outputs": [],
   "source": [
    "import sys\n",
    "# input = sys.stdin.readline"
   ]
  },
  {
   "cell_type": "code",
   "execution_count": 4,
   "id": "80a04232",
   "metadata": {
    "ExecuteTime": {
     "end_time": "2023-06-10T03:13:52.310159Z",
     "start_time": "2023-06-10T03:13:49.053035Z"
    }
   },
   "outputs": [
    {
     "name": "stdout",
     "output_type": "stream",
     "text": [
      "6 11\n",
      "1\n"
     ]
    }
   ],
   "source": [
    "INF = int(1e9)\n",
    "n, m = map(int, input().split())\n",
    "start = int(input())\n",
    "# 각 노드에 연결되어 있는 노드에 대한 정보를 담는 리스트 생성\n",
    "graph = [[] for i in range(n+1)]\n",
    "# 방문한 적이 있는지 체크하는 목적의 리스트 생성\n",
    "visited = [False]*(n+1)\n",
    "# 최단거리 테이블을 모두 무한으로 초기화\n",
    "distance = [INF]*(n+1)"
   ]
  },
  {
   "cell_type": "code",
   "execution_count": 5,
   "id": "fe03f91c",
   "metadata": {
    "ExecuteTime": {
     "end_time": "2023-06-10T03:14:02.150915Z",
     "start_time": "2023-06-10T03:14:02.140888Z"
    }
   },
   "outputs": [],
   "source": [
    "# 각 노드에 연결되어 있는 노드에 대한 정보를 담는 리스트 생성\n",
    "graph = [[] for i in range(n+1)]\n",
    "# 방문한 적이 있는지 체크하는 목적의 리스트 생성\n",
    "visited = [False]*(n+1)\n",
    "# 최단거리 테이블을 모두 무한으로 초기화\n",
    "distance = [INF]*(n+1)"
   ]
  },
  {
   "cell_type": "code",
   "execution_count": 6,
   "id": "5f7f4164",
   "metadata": {
    "ExecuteTime": {
     "end_time": "2023-06-10T03:14:28.398999Z",
     "start_time": "2023-06-10T03:14:02.596803Z"
    }
   },
   "outputs": [
    {
     "name": "stdout",
     "output_type": "stream",
     "text": [
      "1 2 2\n",
      "1 3 5\n",
      "1 4 1\n",
      "2 3 3\n",
      "2 4 2\n",
      "3 2 3\n",
      "3 6 5\n",
      "4 3 3\n",
      "4 5 1\n",
      "5 3 1\n",
      "5 6 2\n"
     ]
    }
   ],
   "source": [
    "for _ in range(m):\n",
    "    a, b, c= map(int, input().split())\n",
    "    graph[a].append((b, c))"
   ]
  },
  {
   "cell_type": "code",
   "execution_count": 7,
   "id": "b84e0161",
   "metadata": {
    "ExecuteTime": {
     "end_time": "2023-06-10T03:14:32.553404Z",
     "start_time": "2023-06-10T03:14:32.533229Z"
    }
   },
   "outputs": [
    {
     "data": {
      "text/plain": [
       "[[],\n",
       " [(2, 2), (3, 5), (4, 1)],\n",
       " [(3, 3), (4, 2)],\n",
       " [(2, 3), (6, 5)],\n",
       " [(3, 3), (5, 1)],\n",
       " [(3, 1), (6, 2)],\n",
       " []]"
      ]
     },
     "execution_count": 7,
     "metadata": {},
     "output_type": "execute_result"
    }
   ],
   "source": [
    "graph"
   ]
  },
  {
   "cell_type": "code",
   "execution_count": 8,
   "id": "32758cd6",
   "metadata": {
    "ExecuteTime": {
     "end_time": "2023-06-10T03:14:33.431979Z",
     "start_time": "2023-06-10T03:14:33.412942Z"
    }
   },
   "outputs": [],
   "source": [
    "# 방문하지 않은 노드 중에서, 가장 최단 거리가 짧은 노드의 번호를 반환\n",
    "def get_smallest_node():\n",
    "    min_value = INF\n",
    "    index = 0 # 가장 최단 거리가 짧은 노드(인덱스)\n",
    "    for i in range(1, n + 1):\n",
    "        if distance[i] < min_value and not visited[i]:\n",
    "            min_value = distance[i]\n",
    "            index = i\n",
    "    return index"
   ]
  },
  {
   "cell_type": "code",
   "execution_count": 9,
   "id": "d3c7d5df",
   "metadata": {
    "ExecuteTime": {
     "end_time": "2023-06-10T03:14:34.201786Z",
     "start_time": "2023-06-10T03:14:34.188783Z"
    }
   },
   "outputs": [],
   "source": [
    "def dijkstra(start):\n",
    "    # 시작 노드에 대해서 초기화\n",
    "    distance[start] = 0\n",
    "    visited[start] = True\n",
    "    for j in graph[start]:\n",
    "        distance[j[0]] = j[1]\n",
    "    # 시작 노드를 제외한 전체 n - 1개의 노드에 대해 반복\n",
    "    for i in range(n - 1):\n",
    "        # 현재 최단 거리가 가장 짧은 노드를 꺼내서, 방문 처리\n",
    "        now = get_smallest_node()\n",
    "        visited[now] = True\n",
    "        # 현재 노드와 연결된 다른 노드를 확인\n",
    "        for j in graph[now]:\n",
    "            cost = distance[now] + j[1]\n",
    "            # 현재 노드를 거쳐서 다른 노드로 이동하는 거리가 더 짧은 경우\n",
    "            if cost < distance[j[0]]:\n",
    "                distance[j[0]] = cost"
   ]
  },
  {
   "cell_type": "code",
   "execution_count": 10,
   "id": "e5dbe424",
   "metadata": {
    "ExecuteTime": {
     "end_time": "2023-06-10T03:14:34.628923Z",
     "start_time": "2023-06-10T03:14:34.613771Z"
    }
   },
   "outputs": [],
   "source": [
    "dijkstra(start)"
   ]
  },
  {
   "cell_type": "code",
   "execution_count": 11,
   "id": "1f629528",
   "metadata": {
    "ExecuteTime": {
     "end_time": "2023-06-10T03:14:35.053845Z",
     "start_time": "2023-06-10T03:14:35.036921Z"
    }
   },
   "outputs": [
    {
     "name": "stdout",
     "output_type": "stream",
     "text": [
      "0\n",
      "2\n",
      "3\n",
      "1\n",
      "2\n",
      "4\n"
     ]
    }
   ],
   "source": [
    "# 모든 노드로 가기 위한 최단 거리를 출력\n",
    "for i in range(1, n + 1):\n",
    "    # 도달할 수 없는 경우, 무한(INFINITY)이라고 출력\n",
    "    if distance[i] == INF:\n",
    "        print(\"INFINITY\")\n",
    "    # 도달할 수 있는 경우 거리를 출력\n",
    "    else:\n",
    "        print(distance[i])"
   ]
  },
  {
   "cell_type": "markdown",
   "id": "7a3493e3",
   "metadata": {},
   "source": [
    "## 개선된 다익스트라\n",
    "### 우선순위 큐\n",
    "- heapq\n",
    "- 파이썬 : 최소힙만 사용 가능"
   ]
  },
  {
   "cell_type": "code",
   "execution_count": 14,
   "id": "be90672c",
   "metadata": {
    "ExecuteTime": {
     "end_time": "2023-06-10T03:17:00.604530Z",
     "start_time": "2023-06-10T03:17:00.597548Z"
    }
   },
   "outputs": [],
   "source": [
    "import heapq"
   ]
  },
  {
   "cell_type": "code",
   "execution_count": 15,
   "id": "313b5a6c",
   "metadata": {
    "ExecuteTime": {
     "end_time": "2023-06-10T03:17:16.514901Z",
     "start_time": "2023-06-10T03:17:12.181227Z"
    }
   },
   "outputs": [
    {
     "name": "stdout",
     "output_type": "stream",
     "text": [
      "6 11\n",
      "1\n"
     ]
    }
   ],
   "source": [
    "# 노드의 개수, 간선의 개수를 입력받기\n",
    "n, m = map(int, input().split())\n",
    "# 시작 노드 번호를 입력받기\n",
    "start = int(input())\n",
    "# 각 노드에 연결되어 있는 노드에 대한 정보를 담는 리스트를 만들기\n",
    "graph = [[] for i in range(n + 1)]\n",
    "# 최단 거리 테이블을 모두 무한으로 초기화\n",
    "distance = [INF] * (n + 1)"
   ]
  },
  {
   "cell_type": "code",
   "execution_count": 16,
   "id": "173072ff",
   "metadata": {
    "ExecuteTime": {
     "end_time": "2023-06-10T03:17:50.849040Z",
     "start_time": "2023-06-10T03:17:23.149827Z"
    }
   },
   "outputs": [
    {
     "name": "stdout",
     "output_type": "stream",
     "text": [
      "1 2 2\n",
      "1 3 5\n",
      "1 4 1\n",
      "2 3 3\n",
      "2 4 2\n",
      "3 2 3\n",
      "3 6 5\n",
      "4 3 3\n",
      "4 5 1\n",
      "5 3 1\n",
      "5 6 2\n"
     ]
    }
   ],
   "source": [
    "# 모든 간선 정보를 입력받기\n",
    "for _ in range(m):\n",
    "    a, b, c = map(int, input().split())\n",
    "    # a번 노드에서 b번 노드로 가는 비용이 c라는 의미\n",
    "    graph[a].append((b, c))"
   ]
  },
  {
   "cell_type": "code",
   "execution_count": 17,
   "id": "065729cc",
   "metadata": {
    "ExecuteTime": {
     "end_time": "2023-06-10T03:19:01.176100Z",
     "start_time": "2023-06-10T03:19:01.165129Z"
    }
   },
   "outputs": [
    {
     "data": {
      "text/plain": [
       "[[],\n",
       " [(2, 2), (3, 5), (4, 1)],\n",
       " [(3, 3), (4, 2)],\n",
       " [(2, 3), (6, 5)],\n",
       " [(3, 3), (5, 1)],\n",
       " [(3, 1), (6, 2)],\n",
       " []]"
      ]
     },
     "execution_count": 17,
     "metadata": {},
     "output_type": "execute_result"
    }
   ],
   "source": [
    "graph"
   ]
  },
  {
   "cell_type": "code",
   "execution_count": 18,
   "id": "7e6812ae",
   "metadata": {
    "ExecuteTime": {
     "end_time": "2023-06-10T04:01:14.176618Z",
     "start_time": "2023-06-10T04:01:14.164675Z"
    }
   },
   "outputs": [],
   "source": [
    "def dijkstra(start):\n",
    "    q = []\n",
    "    # 시작 노드로 가기 위한 최단 경로는 0으로 설정하여, 큐에 삽입\n",
    "    heapq.heappush(q, (0, start))\n",
    "    distance[start] = 0\n",
    "    while q: # 큐가 비어있지 않다면\n",
    "        # 가장 최단 거리가 짧은 노드에 대한 정보 꺼내기\n",
    "        dist, now = heapq.heappop(q)\n",
    "        # 현재 노드가 이미 처리된 적이 있는 노드라면 무시\n",
    "        if distance[now] < dist:\n",
    "            continue\n",
    "        # 현재 노드와 연결된 다른 인접한 노드들을 확인\n",
    "        for i in graph[now]:\n",
    "            cost = dist + i[1]\n",
    "            # 현재 노드를 거쳐서, 다른 노드로 이동하는 거리가 더 짧은 경우\n",
    "            if cost < distance[i[0]]:\n",
    "                distance[i[0]] = cost\n",
    "                heapq.heappush(q, (cost, i[0]))\n",
    "\n",
    "# 다익스트라 알고리즘을 수행\n",
    "dijkstra(start)"
   ]
  },
  {
   "cell_type": "code",
   "execution_count": 19,
   "id": "fa552516",
   "metadata": {
    "ExecuteTime": {
     "end_time": "2023-06-10T04:01:15.087398Z",
     "start_time": "2023-06-10T04:01:15.078423Z"
    }
   },
   "outputs": [
    {
     "name": "stdout",
     "output_type": "stream",
     "text": [
      "0\n",
      "2\n",
      "3\n",
      "1\n",
      "2\n",
      "4\n"
     ]
    }
   ],
   "source": [
    "# 모든 노드로 가기 위한 최단 거리를 출력\n",
    "for i in range(1, n + 1):\n",
    "    # 도달할 수 없는 경우, 무한(INFINITY)이라고 출력\n",
    "    if distance[i] == INF:\n",
    "        print(\"INFINITY\")\n",
    "    # 도달할 수 있는 경우 거리를 출력\n",
    "    else:\n",
    "        print(distance[i])"
   ]
  },
  {
   "cell_type": "markdown",
   "id": "077e9334",
   "metadata": {},
   "source": [
    "# 플로이드 워셜"
   ]
  },
  {
   "cell_type": "code",
   "execution_count": 20,
   "id": "e0919460",
   "metadata": {
    "ExecuteTime": {
     "end_time": "2023-06-10T04:46:21.881485Z",
     "start_time": "2023-06-10T04:46:21.862537Z"
    }
   },
   "outputs": [],
   "source": [
    "INF = int(1e9)"
   ]
  },
  {
   "cell_type": "code",
   "execution_count": 27,
   "id": "2eb190a6",
   "metadata": {
    "ExecuteTime": {
     "end_time": "2023-06-10T04:48:45.402790Z",
     "start_time": "2023-06-10T04:48:42.562066Z"
    }
   },
   "outputs": [
    {
     "name": "stdout",
     "output_type": "stream",
     "text": [
      "4\n",
      "7\n"
     ]
    }
   ],
   "source": [
    "n = int(input())\n",
    "m = int(input())"
   ]
  },
  {
   "cell_type": "code",
   "execution_count": 22,
   "id": "9cd44fb0",
   "metadata": {
    "ExecuteTime": {
     "end_time": "2023-06-10T04:46:52.984175Z",
     "start_time": "2023-06-10T04:46:52.970212Z"
    }
   },
   "outputs": [],
   "source": [
    "graph = [[INF]*(n+1) for _ in range(n+1)]"
   ]
  },
  {
   "cell_type": "code",
   "execution_count": 24,
   "id": "39f77292",
   "metadata": {
    "ExecuteTime": {
     "end_time": "2023-06-10T04:47:43.201740Z",
     "start_time": "2023-06-10T04:47:43.194758Z"
    }
   },
   "outputs": [],
   "source": [
    "for a in range(1, n+1):\n",
    "    for b in range(1, n+1):\n",
    "        if a == b:\n",
    "            graph[a][b] = 0       \n",
    "            "
   ]
  },
  {
   "cell_type": "code",
   "execution_count": 28,
   "id": "fefb715f",
   "metadata": {
    "ExecuteTime": {
     "end_time": "2023-06-10T04:49:00.369250Z",
     "start_time": "2023-06-10T04:48:47.474396Z"
    }
   },
   "outputs": [
    {
     "name": "stdout",
     "output_type": "stream",
     "text": [
      "1 2 4\n",
      "1 4 5\n",
      "2 1 3\n",
      "2 3 7\n",
      "3 1 5\n",
      "3 4 4\n",
      "4 3 2\n"
     ]
    }
   ],
   "source": [
    "for _ in range(m):\n",
    "    a, b, c = map(int, input().split())\n",
    "    graph[a][b] = c"
   ]
  },
  {
   "cell_type": "code",
   "execution_count": 29,
   "id": "8575b9b9",
   "metadata": {
    "ExecuteTime": {
     "end_time": "2023-06-10T04:49:59.073041Z",
     "start_time": "2023-06-10T04:49:59.059081Z"
    }
   },
   "outputs": [],
   "source": [
    "for k in range(1, n+1):\n",
    "    for a in range(1, n+1):\n",
    "        for b in range(1, n+1):\n",
    "            graph[a][b] = min(graph[a][b], graph[a][k] + graph[k][b])"
   ]
  },
  {
   "cell_type": "code",
   "execution_count": 30,
   "id": "a7687659",
   "metadata": {
    "ExecuteTime": {
     "end_time": "2023-06-10T04:50:37.306894Z",
     "start_time": "2023-06-10T04:50:37.297918Z"
    }
   },
   "outputs": [
    {
     "name": "stdout",
     "output_type": "stream",
     "text": [
      "0 4 7 5 \n",
      "3 0 7 8 \n",
      "5 9 0 4 \n",
      "7 11 2 0 \n"
     ]
    }
   ],
   "source": [
    "for a in range(1, n+1):\n",
    "    for b in range(1, n+1):\n",
    "        if graph[a][b] == INF:\n",
    "            print(\"Infinity\", end = \" \")\n",
    "        else:\n",
    "            print(graph[a][b], end = \" \")\n",
    "    print()"
   ]
  },
  {
   "cell_type": "code",
   "execution_count": null,
   "id": "774c5f08",
   "metadata": {},
   "outputs": [],
   "source": []
  }
 ],
 "metadata": {
  "hide_input": false,
  "kernelspec": {
   "display_name": "Python 3 (ipykernel)",
   "language": "python",
   "name": "python3"
  },
  "language_info": {
   "codemirror_mode": {
    "name": "ipython",
    "version": 3
   },
   "file_extension": ".py",
   "mimetype": "text/x-python",
   "name": "python",
   "nbconvert_exporter": "python",
   "pygments_lexer": "ipython3",
   "version": "3.9.16"
  },
  "toc": {
   "base_numbering": 1,
   "nav_menu": {},
   "number_sections": true,
   "sideBar": true,
   "skip_h1_title": false,
   "title_cell": "Table of Contents",
   "title_sidebar": "Contents",
   "toc_cell": false,
   "toc_position": {},
   "toc_section_display": true,
   "toc_window_display": false
  }
 },
 "nbformat": 4,
 "nbformat_minor": 5
}
