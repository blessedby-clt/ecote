{
 "cells": [
  {
   "cell_type": "markdown",
   "id": "6b1e2527",
   "metadata": {},
   "source": [
    "## 2. 큰 수의 법칙\n",
    "1. map 함수\n",
    "2. sort vs sorted"
   ]
  },
  {
   "cell_type": "code",
   "execution_count": 12,
   "id": "1f80032f",
   "metadata": {
    "ExecuteTime": {
     "end_time": "2023-04-17T22:36:05.877716Z",
     "start_time": "2023-04-17T22:35:57.784989Z"
    }
   },
   "outputs": [
    {
     "name": "stdout",
     "output_type": "stream",
     "text": [
      "5 8 3\n",
      "2 4 5 4 6\n"
     ]
    }
   ],
   "source": [
    "# 5 8 3\n",
    "# 2 4 5 4 6\n",
    "\n",
    "# 46\n",
    "\n",
    "n, m, k = map(int, input().split())\n",
    "data = list(map(int, input().split()))\n",
    "\n",
    "data_list = sorted(data, reverse = True)\n",
    "\n",
    "first_value = data_list[0]\n",
    "second_value = data_list[1]"
   ]
  },
  {
   "cell_type": "code",
   "execution_count": 13,
   "id": "58ffa257",
   "metadata": {
    "ExecuteTime": {
     "end_time": "2023-04-17T22:36:07.988660Z",
     "start_time": "2023-04-17T22:36:07.976722Z"
    }
   },
   "outputs": [
    {
     "data": {
      "text/plain": [
       "6"
      ]
     },
     "execution_count": 13,
     "metadata": {},
     "output_type": "execute_result"
    }
   ],
   "source": [
    "first_value"
   ]
  },
  {
   "cell_type": "code",
   "execution_count": 14,
   "id": "2b6d6ce5",
   "metadata": {
    "ExecuteTime": {
     "end_time": "2023-04-17T22:36:08.504088Z",
     "start_time": "2023-04-17T22:36:08.497078Z"
    }
   },
   "outputs": [
    {
     "data": {
      "text/plain": [
       "5"
      ]
     },
     "execution_count": 14,
     "metadata": {},
     "output_type": "execute_result"
    }
   ],
   "source": [
    "second_value"
   ]
  },
  {
   "cell_type": "code",
   "execution_count": 15,
   "id": "aef8b01e",
   "metadata": {
    "ExecuteTime": {
     "end_time": "2023-04-17T22:36:09.124184Z",
     "start_time": "2023-04-17T22:36:09.112172Z"
    }
   },
   "outputs": [
    {
     "name": "stdout",
     "output_type": "stream",
     "text": [
      "46\n"
     ]
    }
   ],
   "source": [
    "result = 0\n",
    "while True:    \n",
    "    for i in range(k):\n",
    "        if m == 0 :\n",
    "            break\n",
    "        result += first_value\n",
    "        m -= 1\n",
    "    if m == 0:\n",
    "        break\n",
    "    result += second_value\n",
    "    m -= 1\n",
    "\n",
    "print(result)           "
   ]
  },
  {
   "cell_type": "markdown",
   "id": "f8661888",
   "metadata": {},
   "source": [
    "## 3. 숫자 카드 게임"
   ]
  },
  {
   "cell_type": "code",
   "execution_count": 17,
   "id": "a78408ee",
   "metadata": {
    "ExecuteTime": {
     "end_time": "2023-04-17T22:41:57.499384Z",
     "start_time": "2023-04-17T22:41:50.120557Z"
    }
   },
   "outputs": [
    {
     "name": "stdout",
     "output_type": "stream",
     "text": [
      "2 4\n",
      "7 3 1 8\n",
      "3 3 3 4\n",
      "3\n"
     ]
    }
   ],
   "source": [
    "n, m = map(int, input().split())\n",
    "result = 0\n",
    "for i in range(n):\n",
    "    data = list(map(int, input().split()))\n",
    "    min_value = min(data)\n",
    "    result = max(min_value, result)\n",
    "\n",
    "print(result)"
   ]
  },
  {
   "cell_type": "markdown",
   "id": "00ff4d1a",
   "metadata": {
    "ExecuteTime": {
     "end_time": "2023-04-17T22:56:35.439343Z",
     "start_time": "2023-04-17T22:56:35.431364Z"
    }
   },
   "source": [
    "## 4. 1이 될 때까지\n",
    "- 해답이랑 다른 방식으로 풀었는데 답은 나오는 것 같음..\n",
    "- 아래 방식으로 풀때 문제가 있을지;;"
   ]
  },
  {
   "cell_type": "code",
   "execution_count": 31,
   "id": "281199f7",
   "metadata": {
    "ExecuteTime": {
     "end_time": "2023-04-17T23:00:36.379729Z",
     "start_time": "2023-04-17T23:00:34.839056Z"
    }
   },
   "outputs": [
    {
     "name": "stdout",
     "output_type": "stream",
     "text": [
      "25 3\n",
      "1.0\n",
      "6\n"
     ]
    }
   ],
   "source": [
    "n, k = map(int, input().split())\n",
    "result = 0\n",
    "\n",
    "while n > 1 :\n",
    "    if n % k == 0 :\n",
    "        n /= k\n",
    "        result += 1\n",
    "\n",
    "    else :\n",
    "        n -= 1\n",
    "        result += 1\n",
    "\n",
    "print(n)\n",
    "print(result)\n",
    "\n",
    "    "
   ]
  },
  {
   "cell_type": "markdown",
   "id": "e2836787",
   "metadata": {},
   "source": [
    "# 백준\n",
    "\n",
    "## 1. 5와 6의 차이 다국어\n",
    "\n",
    "- 링크 : https://www.acmicpc.net/problem/2864"
   ]
  },
  {
   "cell_type": "code",
   "execution_count": 32,
   "id": "2ec2b392",
   "metadata": {
    "ExecuteTime": {
     "end_time": "2023-04-17T23:20:30.177481Z",
     "start_time": "2023-04-17T23:20:18.045592Z"
    }
   },
   "outputs": [
    {
     "name": "stdout",
     "output_type": "stream",
     "text": [
      "16796 58786\n",
      "85582 74580\n"
     ]
    }
   ],
   "source": [
    "a, b = input().split()\n",
    "\n",
    "max_value = int(a.replace('5', '6')) + int(b.replace('5', '6'))\n",
    "min_value = int(a.replace('6', '5')) + int(b.replace('6', '5'))\n",
    "print(max_value, min_value)"
   ]
  },
  {
   "cell_type": "markdown",
   "id": "b8d75548",
   "metadata": {
    "ExecuteTime": {
     "end_time": "2023-04-17T23:35:05.705377Z",
     "start_time": "2023-04-17T23:35:05.684454Z"
    }
   },
   "source": [
    "## 현대모비스 입사 프로젝트 다국어\n",
    "- 링크 : https://www.acmicpc.net/problem/27922"
   ]
  },
  {
   "cell_type": "code",
   "execution_count": null,
   "id": "6f6992ed",
   "metadata": {},
   "outputs": [],
   "source": [
    "## input\n",
    "# 3 2\n",
    "# 2 4 10\n",
    "# 55 8 2\n",
    "# 1 9 5\n",
    "\n",
    "## output\n",
    "# 73\n"
   ]
  },
  {
   "cell_type": "code",
   "execution_count": 45,
   "id": "a4ed1f61",
   "metadata": {
    "ExecuteTime": {
     "end_time": "2023-04-17T23:30:37.226797Z",
     "start_time": "2023-04-17T23:30:29.548955Z"
    }
   },
   "outputs": [
    {
     "name": "stdout",
     "output_type": "stream",
     "text": [
      "3 2\n",
      "2 4 10\n",
      "55 8 2\n",
      "1 9 5\n"
     ]
    }
   ],
   "source": [
    "import itertools\n",
    "\n",
    "n, k = map(int, input().split())\n",
    "data = []\n",
    "for i in range(n):\n",
    "    data.append(list(map(int, input().split())))\n",
    "\n",
    "\n",
    "itertools.combinations()\n",
    "    "
   ]
  },
  {
   "cell_type": "code",
   "execution_count": 46,
   "id": "005386c2",
   "metadata": {
    "ExecuteTime": {
     "end_time": "2023-04-17T23:30:37.810671Z",
     "start_time": "2023-04-17T23:30:37.796664Z"
    }
   },
   "outputs": [
    {
     "data": {
      "text/plain": [
       "[[2, 4, 10], [55, 8, 2], [1, 9, 5]]"
      ]
     },
     "execution_count": 46,
     "metadata": {},
     "output_type": "execute_result"
    }
   ],
   "source": [
    "data"
   ]
  },
  {
   "cell_type": "code",
   "execution_count": null,
   "id": "33ae6fb8",
   "metadata": {},
   "outputs": [],
   "source": []
  }
 ],
 "metadata": {
  "hide_input": false,
  "kernelspec": {
   "display_name": "Python 3 (ipykernel)",
   "language": "python",
   "name": "python3"
  },
  "language_info": {
   "codemirror_mode": {
    "name": "ipython",
    "version": 3
   },
   "file_extension": ".py",
   "mimetype": "text/x-python",
   "name": "python",
   "nbconvert_exporter": "python",
   "pygments_lexer": "ipython3",
   "version": "3.9.12"
  },
  "toc": {
   "base_numbering": 1,
   "nav_menu": {},
   "number_sections": true,
   "sideBar": true,
   "skip_h1_title": false,
   "title_cell": "Table of Contents",
   "title_sidebar": "Contents",
   "toc_cell": false,
   "toc_position": {},
   "toc_section_display": true,
   "toc_window_display": false
  }
 },
 "nbformat": 4,
 "nbformat_minor": 5
}
