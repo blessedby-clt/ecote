{
 "cells": [
  {
   "cell_type": "markdown",
   "id": "ab7ea77c",
   "metadata": {},
   "source": [
    "# 서로소 집합\n",
    "- union - find\n",
    "- 원소 : 노드\n",
    "- union : 간선(edge) \n",
    "- 시간복잡도 : O(V + M(1 + log_(2-M/V)V)"
   ]
  },
  {
   "cell_type": "markdown",
   "id": "c31d4702",
   "metadata": {},
   "source": [
    "## 기본적인 서로소집합 알고리즘"
   ]
  },
  {
   "cell_type": "code",
   "execution_count": 1,
   "id": "a4e8aea4",
   "metadata": {},
   "outputs": [],
   "source": [
    "def find_parent(parent, x):\n",
    "    if parent[x] != x:\n",
    "        return find_parent(parent, parent[x])\n",
    "    return x\n",
    "\n",
    "def union_parent(parent, a, b):\n",
    "    a = find_parent(parent, a)\n",
    "    b = find_parent(parent, b)\n",
    "    if a < b:\n",
    "        parent[b] = a\n",
    "    else:\n",
    "        parent[a] = b"
   ]
  },
  {
   "cell_type": "code",
   "execution_count": 3,
   "id": "8e4d4cc6",
   "metadata": {},
   "outputs": [
    {
     "name": "stdout",
     "output_type": "stream",
     "text": [
      "6 4\n"
     ]
    }
   ],
   "source": [
    "v, e = map(int, input().split())\n",
    "parent = [0]*(v+1)"
   ]
  },
  {
   "cell_type": "code",
   "execution_count": 4,
   "id": "f60eaae7",
   "metadata": {},
   "outputs": [],
   "source": [
    "for i in range(1, v+1):\n",
    "    parent[i] = i"
   ]
  },
  {
   "cell_type": "code",
   "execution_count": 5,
   "id": "99160cab",
   "metadata": {},
   "outputs": [
    {
     "data": {
      "text/plain": [
       "[0, 1, 2, 3, 4, 5, 6]"
      ]
     },
     "execution_count": 5,
     "metadata": {},
     "output_type": "execute_result"
    }
   ],
   "source": [
    "parent"
   ]
  },
  {
   "cell_type": "code",
   "execution_count": 6,
   "id": "152cb70a",
   "metadata": {},
   "outputs": [
    {
     "name": "stdout",
     "output_type": "stream",
     "text": [
      "1 4\n",
      "2 3\n",
      "2 4\n",
      "5 6\n"
     ]
    }
   ],
   "source": [
    "for i in range(e):\n",
    "    a, b = map(int, input().split())\n",
    "    union_parent(parent, a, b)"
   ]
  },
  {
   "cell_type": "code",
   "execution_count": 8,
   "id": "2e9f3934",
   "metadata": {},
   "outputs": [
    {
     "name": "stdout",
     "output_type": "stream",
     "text": [
      "각 원소가 속한 집합 : \n",
      "1 1 1 1 5 5 "
     ]
    }
   ],
   "source": [
    "print('각 원소가 속한 집합 : ')\n",
    "for i in range(1, v+1):\n",
    "    print(find_parent(parent, i), end = ' ')"
   ]
  },
  {
   "cell_type": "code",
   "execution_count": 9,
   "id": "8b3798c9",
   "metadata": {},
   "outputs": [
    {
     "name": "stdout",
     "output_type": "stream",
     "text": [
      "부모 테이블 :1 1 2 1 5 5 "
     ]
    }
   ],
   "source": [
    "\n",
    "print('부모 테이블 :', end = '')\n",
    "for i in range(1, v+1):\n",
    "    print(parent[i], end = ' ')"
   ]
  },
  {
   "cell_type": "markdown",
   "id": "865a7e10",
   "metadata": {},
   "source": [
    "## 개선된 서로소 집합 알고리즘"
   ]
  },
  {
   "cell_type": "code",
   "execution_count": 10,
   "id": "d4b69bde",
   "metadata": {},
   "outputs": [],
   "source": [
    "def find_parent(parent, x):\n",
    "    if parent[x] != x:\n",
    "        parent[x] = find_parent(parent, parent[x])\n",
    "    return parent[x]\n",
    "\n",
    "def union_parent(parent, a, b):\n",
    "    a = find_parent(parent, a)\n",
    "    b = find_parent(parent, b)\n",
    "    if a < b:\n",
    "        parent[b] = a\n",
    "    else:\n",
    "        parent[a] = b"
   ]
  },
  {
   "cell_type": "code",
   "execution_count": 11,
   "id": "9234fb37",
   "metadata": {},
   "outputs": [
    {
     "name": "stdout",
     "output_type": "stream",
     "text": [
      "6 4\n"
     ]
    }
   ],
   "source": [
    "v, e = map(int, input().split())\n",
    "parent = [0]*(v+1)"
   ]
  },
  {
   "cell_type": "code",
   "execution_count": 12,
   "id": "a5273599",
   "metadata": {},
   "outputs": [],
   "source": [
    "for i in range(1, v+1):\n",
    "    parent[i] = i"
   ]
  },
  {
   "cell_type": "code",
   "execution_count": 13,
   "id": "643bfc51",
   "metadata": {},
   "outputs": [
    {
     "name": "stdout",
     "output_type": "stream",
     "text": [
      "1 4\n",
      "2 3\n",
      "2 4\n",
      "5 6\n"
     ]
    }
   ],
   "source": [
    "for i in range(e):\n",
    "    a, b = map(int, input().split())\n",
    "    union_parent(parent, a, b)"
   ]
  },
  {
   "cell_type": "code",
   "execution_count": 14,
   "id": "ed3a7239",
   "metadata": {},
   "outputs": [
    {
     "name": "stdout",
     "output_type": "stream",
     "text": [
      "각 원소가 속한 집합 : \n",
      "1 1 1 1 5 5 "
     ]
    }
   ],
   "source": [
    "print('각 원소가 속한 집합 : ')\n",
    "for i in range(1, v+1):\n",
    "    print(find_parent(parent, i), end = ' ')"
   ]
  },
  {
   "cell_type": "code",
   "execution_count": 15,
   "id": "484927e8",
   "metadata": {},
   "outputs": [
    {
     "name": "stdout",
     "output_type": "stream",
     "text": [
      "부모 테이블 :1 1 1 1 5 5 "
     ]
    }
   ],
   "source": [
    "print('부모 테이블 :', end = '')\n",
    "for i in range(1, v+1):\n",
    "    print(parent[i], end = ' ')"
   ]
  },
  {
   "cell_type": "markdown",
   "id": "c34c9e27",
   "metadata": {},
   "source": [
    "## 서로소 집합을 활용한 사이클 판별\n",
    "- 각 간선을 확인하며 두 노드의 루트 노드를 확인\n",
    "  - 루트 노드가 서로 다르다면 두 노드에 대하여 union 연산을 수행\n",
    "  - 루트 노드가 서로 같다면 사이클이 발생\n",
    "- 그래프에 포함되어 있는 모든 간선에 대해 1번 과정 반복"
   ]
  },
  {
   "cell_type": "code",
   "execution_count": 16,
   "id": "25b96228",
   "metadata": {},
   "outputs": [
    {
     "name": "stdout",
     "output_type": "stream",
     "text": [
      "3 3\n"
     ]
    }
   ],
   "source": [
    "v, e = map(int, input().split())\n",
    "parent = [0] * (v+1)"
   ]
  },
  {
   "cell_type": "code",
   "execution_count": 17,
   "id": "60673974",
   "metadata": {},
   "outputs": [],
   "source": [
    "for i in range(1, v+1):\n",
    "    parent[i] = i"
   ]
  },
  {
   "cell_type": "code",
   "execution_count": 18,
   "id": "e22a0ede",
   "metadata": {},
   "outputs": [],
   "source": [
    "cycle = False"
   ]
  },
  {
   "cell_type": "code",
   "execution_count": 19,
   "id": "84a22fb4",
   "metadata": {},
   "outputs": [
    {
     "name": "stdout",
     "output_type": "stream",
     "text": [
      "1 2\n",
      "1 3\n",
      "2 3\n",
      "사이클이 발생했습니다\n"
     ]
    }
   ],
   "source": [
    "for i in range(e):\n",
    "    a, b = map(int, input().split())\n",
    "    # 사이클이 발생한 경우 종료\n",
    "    if find_parent(parent, a) == find_parent(parent, b):\n",
    "        cycle = True\n",
    "        break\n",
    "    else:\n",
    "        union_parent(parent, a, b)\n",
    "\n",
    "if cycle:\n",
    "    print(\"사이클이 발생했습니다\")\n",
    "else:\n",
    "    print(\"사이클이 발생하지 않았습니다.\")"
   ]
  },
  {
   "cell_type": "markdown",
   "id": "a5f70347",
   "metadata": {},
   "source": [
    "# 신장 트리\n",
    "- 하나의 그래프가 있을 때,\n",
    "  - 모든 노드를 포함\n",
    "  - 사이클이 존재하지 않는 부분\n",
    "\n",
    "## 크루스칼 알고리즘\n",
    "- 간선을 비용에 따라 정렬\n",
    "- 간선을 하나씩 확인하며 현재의 간선이 사이클을 발생시키는지 확인\n",
    "  - 사이클이 발생하지 앟는 경우 최소 신장트리에 포함\n",
    "  - 사이클이 발생하면 패스\n",
    "- 반복"
   ]
  },
  {
   "cell_type": "code",
   "execution_count": 31,
   "id": "9ce8e6f9",
   "metadata": {},
   "outputs": [],
   "source": [
    "def find_parent(parent, x):\n",
    "    if parent[x] != x:\n",
    "        parent[x] = find_parent(parent, parent[x])\n",
    "    return parent[x]\n",
    "\n",
    "def union_parent(parent, a, b):\n",
    "    a = find_parent(parent, a)\n",
    "    b = find_parent(parent, b)\n",
    "    if a < b:\n",
    "        parent[b] = a\n",
    "    else:\n",
    "        parent[a] = b\n",
    "    "
   ]
  },
  {
   "cell_type": "code",
   "execution_count": 32,
   "id": "ed50d191",
   "metadata": {},
   "outputs": [
    {
     "name": "stdout",
     "output_type": "stream",
     "text": [
      "7 9\n"
     ]
    }
   ],
   "source": [
    "v, e = map(int, input().split())\n",
    "parent = [0]* (v+1)"
   ]
  },
  {
   "cell_type": "code",
   "execution_count": 33,
   "id": "b0b68ab2",
   "metadata": {},
   "outputs": [],
   "source": [
    "edges = []\n",
    "result = 0"
   ]
  },
  {
   "cell_type": "code",
   "execution_count": 34,
   "id": "f39c0e64",
   "metadata": {},
   "outputs": [
    {
     "name": "stdout",
     "output_type": "stream",
     "text": [
      "1 2 29\n",
      "1 5 75\n",
      "2 3 35\n",
      "2 6 34\n",
      "3 4 7\n",
      "4 6 23\n",
      "4 7 13\n",
      "5 6 53\n",
      "6 7 25\n"
     ]
    }
   ],
   "source": [
    "for _ in range(e):\n",
    "    a, b, cost = map(int, input().split())\n",
    "    edges.append((cost, a, b))"
   ]
  },
  {
   "cell_type": "code",
   "execution_count": 35,
   "id": "3636ca0d",
   "metadata": {},
   "outputs": [],
   "source": [
    "edges.sort()"
   ]
  },
  {
   "cell_type": "code",
   "execution_count": 36,
   "id": "e851dbc6",
   "metadata": {},
   "outputs": [
    {
     "data": {
      "text/plain": [
       "[(7, 3, 4),\n",
       " (13, 4, 7),\n",
       " (23, 4, 6),\n",
       " (25, 6, 7),\n",
       " (29, 1, 2),\n",
       " (34, 2, 6),\n",
       " (35, 2, 3),\n",
       " (53, 5, 6),\n",
       " (75, 1, 5)]"
      ]
     },
     "execution_count": 36,
     "metadata": {},
     "output_type": "execute_result"
    }
   ],
   "source": [
    "edges"
   ]
  },
  {
   "cell_type": "code",
   "execution_count": 39,
   "id": "fa0eced5",
   "metadata": {},
   "outputs": [
    {
     "name": "stdout",
     "output_type": "stream",
     "text": [
      "7 3 4\n",
      "13 4 7\n",
      "23 4 6\n",
      "25 6 7\n",
      "29 1 2\n",
      "34 2 6\n",
      "35 2 3\n",
      "53 5 6\n",
      "75 1 5\n"
     ]
    }
   ],
   "source": [
    "for i in range(1, v+1):\n",
    "    parent[i] = i\n",
    "    \n",
    "for edge in edges:\n",
    "    cost, a, b = edge\n",
    "    print(cost, a, b)\n",
    "\n",
    "    if find_parent(parent, a) != find_parent(parent, b):\n",
    "        union_parent(parent, a, b)\n",
    "        result += cost\n"
   ]
  },
  {
   "cell_type": "code",
   "execution_count": 40,
   "id": "e29f60be",
   "metadata": {},
   "outputs": [
    {
     "name": "stdout",
     "output_type": "stream",
     "text": [
      "159\n"
     ]
    }
   ],
   "source": [
    "print(result)"
   ]
  },
  {
   "cell_type": "markdown",
   "id": "0bb5894a",
   "metadata": {},
   "source": [
    "# 위상정렬\n",
    "- 방향 그래프의 모든 노드를 방향성에 거스르지 않도록 순서대로 나열\n",
    "- 진입차수가 0인 노드를 큐에 넣는다\n",
    "- 큐가 빌때까지 다음의 과정을 반복\n",
    "  - 큐에서 원소를 꺼내 해당노드에서 출발하는 간선을 그래프에서 제거\n",
    "  - 새롭게 진입차수가 0이 된 노드를 큐에 넣는다"
   ]
  },
  {
   "cell_type": "code",
   "execution_count": 41,
   "id": "595f46ff",
   "metadata": {},
   "outputs": [
    {
     "name": "stdout",
     "output_type": "stream",
     "text": [
      "7 8\n"
     ]
    }
   ],
   "source": [
    "from collections import deque\n",
    "\n",
    "v, e = map(int, input().split())\n",
    "indegree = [0]*(v+1)\n",
    "graph = [[] for i in range(v+1)]"
   ]
  },
  {
   "cell_type": "code",
   "execution_count": 42,
   "id": "62d54559",
   "metadata": {},
   "outputs": [
    {
     "name": "stdout",
     "output_type": "stream",
     "text": [
      "1 2\n",
      "1 5\n",
      "2 3\n",
      "2 6\n",
      "3 4\n",
      "4 7\n",
      "5 6\n",
      "6 4\n"
     ]
    }
   ],
   "source": [
    "for _ in range(e):\n",
    "    a, b = map(int, input().split())\n",
    "    graph[a].append(b)\n",
    "    \n",
    "    indegree[b] += 1"
   ]
  },
  {
   "cell_type": "code",
   "execution_count": 43,
   "id": "4e10a341",
   "metadata": {},
   "outputs": [],
   "source": [
    "def topology_sort():\n",
    "    result = []\n",
    "    q = deque()\n",
    "    \n",
    "    for i in range(1, v+1):\n",
    "        if indegree[i] ==0:\n",
    "            q.append(i)\n",
    "    \n",
    "    while q:\n",
    "        now = q.popleft()\n",
    "        result.append(now)\n",
    "        \n",
    "        for i in graph[now]:\n",
    "            indegree[i] -= 1\n",
    "            if indegree[i] == 0:\n",
    "                q.append(i)\n",
    "    for i in result:\n",
    "        print(i, end = ' ')\n",
    "        \n",
    "            "
   ]
  },
  {
   "cell_type": "code",
   "execution_count": 44,
   "id": "e5b8dba8",
   "metadata": {},
   "outputs": [
    {
     "name": "stdout",
     "output_type": "stream",
     "text": [
      "1 2 5 3 6 4 7 "
     ]
    }
   ],
   "source": [
    "topology_sort()"
   ]
  },
  {
   "cell_type": "code",
   "execution_count": null,
   "id": "7e7988e2",
   "metadata": {},
   "outputs": [],
   "source": []
  }
 ],
 "metadata": {
  "kernelspec": {
   "display_name": "Python 3 (ipykernel)",
   "language": "python",
   "name": "python3"
  },
  "language_info": {
   "codemirror_mode": {
    "name": "ipython",
    "version": 3
   },
   "file_extension": ".py",
   "mimetype": "text/x-python",
   "name": "python",
   "nbconvert_exporter": "python",
   "pygments_lexer": "ipython3",
   "version": "3.9.13"
  },
  "toc": {
   "base_numbering": 1,
   "nav_menu": {},
   "number_sections": true,
   "sideBar": true,
   "skip_h1_title": false,
   "title_cell": "Table of Contents",
   "title_sidebar": "Contents",
   "toc_cell": false,
   "toc_position": {},
   "toc_section_display": true,
   "toc_window_display": false
  }
 },
 "nbformat": 4,
 "nbformat_minor": 5
}
