{
 "cells": [
  {
   "cell_type": "markdown",
   "id": "1d7a87b7",
   "metadata": {},
   "source": [
    "## 상하좌우"
   ]
  },
  {
   "cell_type": "code",
   "execution_count": 8,
   "id": "7a228d6b",
   "metadata": {
    "ExecuteTime": {
     "end_time": "2023-04-23T12:21:30.754649Z",
     "start_time": "2023-04-23T12:21:30.737694Z"
    }
   },
   "outputs": [],
   "source": [
    "size_of_space = 5\n",
    "move_plan = 'R R R U D D'"
   ]
  },
  {
   "cell_type": "code",
   "execution_count": 15,
   "id": "6352c37a",
   "metadata": {
    "ExecuteTime": {
     "end_time": "2023-04-23T12:24:20.452308Z",
     "start_time": "2023-04-23T12:24:20.442335Z"
    }
   },
   "outputs": [
    {
     "name": "stdout",
     "output_type": "stream",
     "text": [
      "3   4\n"
     ]
    }
   ],
   "source": [
    "x, y = 1, 1\n",
    "move_plan_x = {'R':0, 'U':-1, 'L':0, 'D':1}\n",
    "move_plan_y = {'R':1, 'U':0, 'L':-1, 'D':0}\n",
    "\n",
    "for plan in move_plan.split():\n",
    "    if x + move_plan_x[plan] > 0:\n",
    "        x += move_plan_x[plan]\n",
    "    if y + move_plan_y[plan] > 0:\n",
    "        y += move_plan_y[plan]\n",
    "\n",
    "print(x,\" \",y)"
   ]
  },
  {
   "cell_type": "markdown",
   "id": "46792721",
   "metadata": {
    "ExecuteTime": {
     "end_time": "2023-04-23T12:23:42.321538Z",
     "start_time": "2023-04-23T12:23:42.313587Z"
    }
   },
   "source": [
    " ## 시각"
   ]
  },
  {
   "cell_type": "code",
   "execution_count": 1,
   "id": "91579e01",
   "metadata": {
    "ExecuteTime": {
     "end_time": "2023-04-24T12:49:49.901133Z",
     "start_time": "2023-04-24T12:49:49.890165Z"
    }
   },
   "outputs": [],
   "source": [
    "n = 5"
   ]
  },
  {
   "cell_type": "code",
   "execution_count": 2,
   "id": "82ef6551",
   "metadata": {
    "ExecuteTime": {
     "end_time": "2023-04-24T12:50:41.343636Z",
     "start_time": "2023-04-24T12:50:41.297759Z"
    }
   },
   "outputs": [
    {
     "name": "stdout",
     "output_type": "stream",
     "text": [
      "11475\n"
     ]
    }
   ],
   "source": [
    "count = 0\n",
    "for i in range(n + 1):\n",
    "    for j in range(60):\n",
    "        for k in range(60):\n",
    "            if '3' in str(i) + str(j) + str(k):\n",
    "                count +=1\n",
    "\n",
    "print(count)                "
   ]
  },
  {
   "cell_type": "markdown",
   "id": "33869976",
   "metadata": {},
   "source": [
    "## 왕실의 나이트"
   ]
  },
  {
   "cell_type": "code",
   "execution_count": 7,
   "id": "5c53f9b3",
   "metadata": {
    "ExecuteTime": {
     "end_time": "2023-04-24T13:06:32.069954Z",
     "start_time": "2023-04-24T13:06:32.064963Z"
    }
   },
   "outputs": [
    {
     "name": "stdout",
     "output_type": "stream",
     "text": [
      "c 4\n"
     ]
    }
   ],
   "source": [
    "column_dict = {'a':0, 'b':1, 'c':2, 'd':3, 'e':4, 'f':5, 'g':6, 'h':7}\n",
    "row_dict = {'1':0, '2':1, '3':2, '4':3, '5':4, '6':5, '7':6, '8':7}\n",
    "\n",
    "input_string = 'c4'\n",
    "c = input_string[0]\n",
    "r = input_string[1]\n",
    "print(c, r)"
   ]
  },
  {
   "cell_type": "code",
   "execution_count": 8,
   "id": "cf44e04a",
   "metadata": {
    "ExecuteTime": {
     "end_time": "2023-04-24T13:06:32.446258Z",
     "start_time": "2023-04-24T13:06:32.425299Z"
    }
   },
   "outputs": [
    {
     "name": "stdout",
     "output_type": "stream",
     "text": [
      "8\n"
     ]
    }
   ],
   "source": [
    "result = 0\n",
    "## 왼쪽 이동(수평)\n",
    "if column_dict[c] - 2 >= 0:\n",
    "    if row_dict[r] -1 >= 0:\n",
    "        result += 1\n",
    "    if row_dict[r] + 1 < 8:\n",
    "        result += 1\n",
    "## 오른쪽 이동(수평)\n",
    "if column_dict[c] + 2 < 8:\n",
    "    if row_dict[r] -1 >= 0:\n",
    "        result += 1\n",
    "    if row_dict[r] + 1 < 8:\n",
    "        result += 1\n",
    "## 위 이동(수직)\n",
    "if row_dict[r] - 2 >= 0:\n",
    "    if column_dict[c] -1 >= 0:\n",
    "        result += 1\n",
    "    if column_dict[c] + 1 < 8:\n",
    "        result += 1\n",
    "## 아래 이동(수직)\n",
    "if row_dict[r] + 2 < 8:\n",
    "    if column_dict[c] -1 >= 0:\n",
    "        result += 1\n",
    "    if column_dict[c] + 1 < 8:\n",
    "        result += 1\n",
    "print(result)\n"
   ]
  },
  {
   "cell_type": "code",
   "execution_count": 9,
   "id": "98fb9a94",
   "metadata": {
    "ExecuteTime": {
     "end_time": "2023-04-24T13:15:11.656200Z",
     "start_time": "2023-04-24T13:15:11.641239Z"
    }
   },
   "outputs": [
    {
     "name": "stdout",
     "output_type": "stream",
     "text": [
      "8\n"
     ]
    }
   ],
   "source": [
    "## 해답에 있는 풀이가 훨씬 좋은 것 같아 아이디어 훔쳐다 다시 풀기...\n",
    "# 2-1) ord(문자)\n",
    "# 하나의 문자를 인자로 받고 해당 문자에 해당하는 유니코드 정수를 반환합니다.\n",
    "# ord('a')를 넣으면 정수 97을 반환합니다.\n",
    "\n",
    "row = int(r)\n",
    "column = int(ord(c)) - int(ord('a')) + 1\n",
    "\n",
    "steps = [(-2, -1), (-2, 1), (-1, -2), (-1, 2), (1, -2), (1, 2), (2, -1), (2, 1)]\n",
    "result = 0\n",
    "\n",
    "for step in steps:\n",
    "    next_row = row + step[0]\n",
    "    next_col = column + step[1]\n",
    "\n",
    "    if next_row >= 1 and next_row <= 8 and next_col >= 1 and next_col <= 8:\n",
    "        result +=1\n",
    "\n",
    "print(result)    \n",
    "    "
   ]
  },
  {
   "cell_type": "code",
   "execution_count": 12,
   "id": "8f67295b",
   "metadata": {
    "ExecuteTime": {
     "end_time": "2023-04-24T13:36:39.483177Z",
     "start_time": "2023-04-24T13:36:13.846470Z"
    }
   },
   "outputs": [
    {
     "name": "stdout",
     "output_type": "stream",
     "text": [
      "4 4\n",
      "1 1 0\n",
      "1 1 1 1\n",
      "1 0 0 1\n",
      "1 1 0 1\n",
      "1 1 1 1\n",
      "3\n"
     ]
    }
   ],
   "source": [
    "# 4-4 구현 예제 게임 개발 정답\n",
    "# N, M을 공백으로 구분하여 입력받기\n",
    "n, m = map(int, input().split())\n",
    "\n",
    "# 방문자 위치를 저장하기 위한 맵을 생성하여 0으로 초기화\n",
    "d = [[0] * m for _ in range(n)]\n",
    "\n",
    "# 현재 캐릭터의 X 좌표, Y 좌표, 방향을 입력받기\n",
    "x, y, direction = map(int, input().split())\n",
    "d[x][y] = 1 #현재 좌표 방문 처리\n",
    "\n",
    "# 전체 맵 정보를 입력받기\n",
    "array = []\n",
    "for i in range(n):\n",
    "    array.append(list(map(int, input().split())))\n",
    "    \n",
    "# 북, 동, 남, 서 방향 정의\n",
    "dx = [-1, 0, 1, 0]\n",
    "dy = [0, 1, 0, -1]\n",
    "\n",
    "# 왼쪽으로 회전\n",
    "def turn_left():\n",
    "    global direction\n",
    "    direction -= 1\n",
    "    if direction == -1:\n",
    "        direction = 3\n",
    "        \n",
    "# 시뮬레이션 시작\n",
    "count = 1\n",
    "turn_time = 0\n",
    "while True:\n",
    "    # 왼쪽으로 회전\n",
    "    turn_left()\n",
    "    nx = x + dx[direction]\n",
    "    ny = y + dy[direction]\n",
    "    \n",
    "    # 회전한 이후 정면에 가보지 않은 칸이 존재하는 경우 이동\n",
    "    if d[nx][ny] == 0 and array[nx][ny] == 0:\n",
    "        d[nx][ny] = 1\n",
    "        x = nx\n",
    "        y = ny\n",
    "        count += 1\n",
    "        turn_time = 0\n",
    "        continue\n",
    "    \n",
    "    # 회전한 이후 정면에 가보지 않은 칸이 없거나 바다인 경우\n",
    "    else:\n",
    "        turn_time += 1\n",
    "        \n",
    "    # 네 방향 모두 갈 수 없는 경우\n",
    "    if turn_time == 4:\n",
    "        nx = x - dx[direction]\n",
    "        ny = y - dy[direction]\n",
    "        \n",
    "        # 뒤로 갈 수 있다면 이동하기\n",
    "        if array[nx][ny] == 0:\n",
    "            x = nx\n",
    "            y = ny\n",
    "        \n",
    "        # 뒤가 바다로 막혀있는 경우\n",
    "        else:\n",
    "            break\n",
    "        \n",
    "        turn_time = 0\n",
    "        \n",
    "print(count)"
   ]
  },
  {
   "cell_type": "markdown",
   "id": "1036049a",
   "metadata": {},
   "source": [
    "# "
   ]
  }
 ],
 "metadata": {
  "hide_input": false,
  "kernelspec": {
   "display_name": "Python 3 (ipykernel)",
   "language": "python",
   "name": "python3"
  },
  "language_info": {
   "codemirror_mode": {
    "name": "ipython",
    "version": 3
   },
   "file_extension": ".py",
   "mimetype": "text/x-python",
   "name": "python",
   "nbconvert_exporter": "python",
   "pygments_lexer": "ipython3",
   "version": "3.9.12"
  },
  "toc": {
   "base_numbering": 1,
   "nav_menu": {},
   "number_sections": true,
   "sideBar": true,
   "skip_h1_title": false,
   "title_cell": "Table of Contents",
   "title_sidebar": "Contents",
   "toc_cell": false,
   "toc_position": {},
   "toc_section_display": true,
   "toc_window_display": false
  }
 },
 "nbformat": 4,
 "nbformat_minor": 5
}
